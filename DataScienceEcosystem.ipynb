{
  "metadata": {
    "language_info": {
      "codemirror_mode": {
        "name": "python",
        "version": 3
      },
      "file_extension": ".py",
      "mimetype": "text/x-python",
      "name": "python",
      "nbconvert_exporter": "python",
      "pygments_lexer": "ipython3",
      "version": "3.8"
    },
    "kernelspec": {
      "name": "python",
      "display_name": "Python (Pyodide)",
      "language": "python"
    },
    "colab": {
      "provenance": []
    }
  },
  "nbformat_minor": 0,
  "nbformat": 4,
  "cells": [
    {
      "cell_type": "markdown",
      "source": [
        "# Data Science Tools and Ecosystem"
      ],
      "metadata": {
        "id": "BdqVwQ7IhdxA"
      }
    },
    {
      "cell_type": "markdown",
      "source": [
        "In this notebook, Data Science Tools and Ecosystem are summarized."
      ],
      "metadata": {
        "id": "mTNbzFebhdxD"
      }
    },
    {
      "cell_type": "markdown",
      "source": [
        "**Objectives:**\n",
        "- List popular Data Science languages\n",
        "- List commonly used Data Science libraries\n",
        "- List commonly used Data Science development environment tools\n",
        "- Evaluate arithmetic expressions in Python"
      ],
      "metadata": {
        "id": "Z2J7xIjErssY"
      }
    },
    {
      "cell_type": "markdown",
      "source": [
        "Some of the popular languages that Data Scientists use are:\n",
        "\n",
        "1. Python\n",
        "2. R\n",
        "3. SQL\n",
        "4. Scala\n",
        "5. Java\n",
        "6. C++\n",
        "7. Julia\n",
        "8. Javascript\n",
        "9. Php\n",
        "10. Go\n",
        "11. Visual Basic\n",
        "12. Ruby"
      ],
      "metadata": {
        "id": "LUGY1GT7hdxD"
      }
    },
    {
      "cell_type": "markdown",
      "source": [
        "Some of the commonly used libraries used by Data Scientists include:\n",
        "1. Pandas\n",
        "2. Numpy\n",
        "3. Matplotlib\n",
        "4. Seaborn\n",
        "5. Scikit-learn\n",
        "6. Keras\n",
        "7. TensorFlow\n",
        "8. PyTorch\n",
        "9. Apache Spark\n",
        "10. Vegas\n",
        "11. Big DL\n",
        "12. Ggplot2\n"
      ],
      "metadata": {
        "id": "fJ0HI5VYhdxE"
      }
    },
    {
      "cell_type": "markdown",
      "source": [
        "| Data Science Tools |\n",
        "| ------------------ |\n",
        "| Jupyter Lab |\n",
        "| R Studio |\n",
        "| Apache Spark |\n",
        "| Apache Flink |\n",
        "| Apache Zeppelin |"
      ],
      "metadata": {
        "id": "jfb6bRlRhdxE"
      }
    },
    {
      "cell_type": "markdown",
      "source": [
        "### Below are a few examples of evaluating arithmetic expressions in Python"
      ],
      "metadata": {
        "id": "PppPYsuThdxE"
      }
    },
    {
      "cell_type": "code",
      "source": [
        "# This a simple arithmetic expression to mutiply then add integers\n",
        "(3 * 4) + 5"
      ],
      "metadata": {
        "trusted": true,
        "id": "yB7s5vJHhdxE",
        "outputId": "e1e1b6a4-2a8c-40f0-d3cd-9d5e055a93c8"
      },
      "execution_count": null,
      "outputs": [
        {
          "execution_count": 1,
          "output_type": "execute_result",
          "data": {
            "text/plain": "17"
          },
          "metadata": {}
        }
      ]
    },
    {
      "cell_type": "code",
      "source": [
        "# This will convert 200 minutes to hours by diving by 60\n",
        "print(200 / 60, \"hr\")"
      ],
      "metadata": {
        "trusted": true,
        "colab": {
          "base_uri": "https://localhost:8080/"
        },
        "id": "fJtk8hyGhdxF",
        "outputId": "2c2da3f8-5757-45df-8b20-2d4de4da2501"
      },
      "execution_count": null,
      "outputs": [
        {
          "output_type": "stream",
          "name": "stdout",
          "text": [
            "3.3333333333333335 hr\n"
          ]
        }
      ]
    },
    {
      "cell_type": "markdown",
      "source": [
        "## Author\n",
        "Jeevithesh"
      ],
      "metadata": {
        "id": "28fn541yhdxG"
      }
    }
  ]
}