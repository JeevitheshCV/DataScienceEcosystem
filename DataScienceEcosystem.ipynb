{
 "cells": [
  {
   "cell_type": "markdown",
   "metadata": {
    "id": "BdqVwQ7IhdxA"
   },
   "source": [
    "# Data Science Tools and Ecosystem"
   ]
  },
  {
   "cell_type": "markdown",
   "metadata": {
    "id": "mTNbzFebhdxD"
   },
   "source": [
    "In this notebook, Data Science Tools and Ecosystem are summarized."
   ]
  },
  {
   "cell_type": "markdown",
   "metadata": {
    "id": "Z2J7xIjErssY"
   },
   "source": [
    "**Objectives:**\n",
    "- List popular Data Science languages\n",
    "- List commonly used Data Science libraries\n",
    "- List commonly used Data Science development environment tools\n",
    "- Evaluate arithmetic expressions in Python"
   ]
  },
  {
   "cell_type": "markdown",
   "metadata": {
    "id": "LUGY1GT7hdxD"
   },
   "source": [
    "Some of the popular languages that Data Scientists use are:\n",
    "\n",
    "1. Python\n",
    "2. R\n",
    "3. SQL\n",
    "4. Scala\n",
    "5. Julia"
   ]
  },
  {
   "cell_type": "markdown",
   "metadata": {
    "id": "fJ0HI5VYhdxE"
   },
   "source": [
    "Some of the commonly used libraries used by Data Scientists include:\n",
    "1. Pandas\n",
    "2. Numpy\n",
    "3. Matplotlib\n",
    "4. Scikit-Learn\n",
    "5. Keras\n",
    "6. Tensorflow\n",
    "7. PyTorch\n"
   ]
  },
  {
   "cell_type": "markdown",
   "metadata": {
    "id": "jfb6bRlRhdxE"
   },
   "source": [
    "| Data Science Tools |\n",
    "| ------------------ |\n",
    "| Jupyter Lab |\n",
    "| R Studio |\n",
    "| Apache Spark |\n",
    "| Apache Flink |\n",
    "| Apache Zeppelin |"
   ]
  },
  {
   "cell_type": "markdown",
   "metadata": {
    "id": "PppPYsuThdxE"
   },
   "source": [
    "### Below are a few examples of evaluating arithmetic expressions in Python"
   ]
  },
  {
   "cell_type": "code",
   "execution_count": null,
   "metadata": {
    "id": "yB7s5vJHhdxE",
    "outputId": "e1e1b6a4-2a8c-40f0-d3cd-9d5e055a93c8"
   },
   "outputs": [
    {
     "data": {
      "text/plain": [
       "17"
      ]
     },
     "execution_count": 1,
     "metadata": {},
     "output_type": "execute_result"
    }
   ],
   "source": [
    "# This a simple arithmetic expression to mutiply then add integers\n",
    "(3 * 4) + 5"
   ]
  },
  {
   "cell_type": "code",
   "execution_count": null,
   "metadata": {
    "colab": {
     "base_uri": "https://localhost:8080/"
    },
    "id": "fJtk8hyGhdxF",
    "outputId": "2c2da3f8-5757-45df-8b20-2d4de4da2501"
   },
   "outputs": [
    {
     "name": "stdout",
     "output_type": "stream",
     "text": [
      "3.3333333333333335 hr\n"
     ]
    }
   ],
   "source": [
    "# This will convert 200 minutes to hours by diving by 60\n",
    "print(200 / 60, \"hr\")"
   ]
  },
  {
   "cell_type": "markdown",
   "metadata": {
    "id": "28fn541yhdxG"
   },
   "source": [
    "## Author\n",
    "Jeevithesh"
   ]
  }
 ],
 "metadata": {
  "colab": {
   "provenance": []
  },
  "kernelspec": {
   "display_name": "Python 3 (ipykernel)",
   "language": "python",
   "name": "python3"
  },
  "language_info": {
   "codemirror_mode": {
    "name": "ipython",
    "version": 3
   },
   "file_extension": ".py",
   "mimetype": "text/x-python",
   "name": "python",
   "nbconvert_exporter": "python",
   "pygments_lexer": "ipython3",
   "version": "3.11.4"
  }
 },
 "nbformat": 4,
 "nbformat_minor": 1
}
